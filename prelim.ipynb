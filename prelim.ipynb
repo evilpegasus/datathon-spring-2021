{
 "cells": [
  {
   "cell_type": "code",
   "execution_count": 1,
   "metadata": {},
   "outputs": [],
   "source": [
    "import numpy as np\n",
    "import pandas as pd"
   ]
  },
  {
   "cell_type": "code",
   "execution_count": 6,
   "metadata": {},
   "outputs": [],
   "source": [
    "owid = pd.read_csv('./owid-covid-data.csv')\n",
    "owid['Country'] = owid['location']\n",
    "eu_temp = owid.loc[owid.continent == \"Europe\",['Country','date','positive_rate','reproduction_rate']]\n",
    "eu_temp['positive_rate_after_14'] = eu_temp.groupby('Country')['positive_rate'].shift(-14)\n",
    "eu_temp['reproduction_rate_1'] = eu_temp.groupby('Country')['reproduction_rate'].shift(-1)\n",
    "eu_temp['reproduction_rate_2'] = eu_temp.groupby('Country')['reproduction_rate'].shift(-2)\n",
    "eu_temp['reproduction_rate_3'] = eu_temp.groupby('Country')['reproduction_rate'].shift(-3)\n",
    "eu_temp['reproduction_rate_4'] = eu_temp.groupby('Country')['reproduction_rate'].shift(-4)\n",
    "eu_temp['reproduction_rate_5'] = eu_temp.groupby('Country')['reproduction_rate'].shift(-5)\n",
    "eu_temp['reproduction_rate_6'] = eu_temp.groupby('Country')['reproduction_rate'].shift(-6)\n",
    "eu_temp['reproduction_rate_7'] = eu_temp.groupby('Country')['reproduction_rate'].shift(-7)\n",
    "\n",
    "eu_response =pd.read_csv('./country_response_measures.csv')\n",
    "eu_response['date'] = eu_response['date_start']\n",
    "del eu_response['date_start']\n",
    "eu_response = eu_response.merge(eu_temp,on=['Country','date'],how='outer')\n",
    "del eu_temp\n",
    "eu_response = eu_response[['Country','date','Response_measure','date_end','positive_rate','positive_rate_after_14','reproduction_rate','reproduction_rate_1','reproduction_rate_2','reproduction_rate_3','reproduction_rate_4','reproduction_rate_5','reproduction_rate_6','reproduction_rate_7']]"
   ]
  },
  {
   "cell_type": "code",
   "execution_count": 13,
   "metadata": {},
   "outputs": [
    {
     "output_type": "execute_result",
     "data": {
      "text/plain": [
       "                              positive_rate  positive_rate_after_14  \\\n",
       "Response_measure                                                      \n",
       "AdaptationOfWorkplace              0.081250                0.088429   \n",
       "AdaptationOfWorkplacePartial       0.156400                0.142400   \n",
       "BanOnAllEvents                     0.133950                0.147727   \n",
       "BanOnAllEventsPartial              0.078625                0.101625   \n",
       "ClosDaycare                        0.109600                0.102105   \n",
       "...                                     ...                     ...   \n",
       "StayHomeRiskGPartial               0.003500                0.004000   \n",
       "Teleworking                        0.121765                0.148895   \n",
       "TeleworkingPartial                 0.114400                0.093917   \n",
       "WorkplaceClosures                  0.195000                0.071500   \n",
       "WorkplaceClosuresPartial           0.022000                0.003000   \n",
       "\n",
       "                              reproduction_rate  reproduction_rate_1  \\\n",
       "Response_measure                                                       \n",
       "AdaptationOfWorkplace                  1.576000             1.586000   \n",
       "AdaptationOfWorkplacePartial           1.170000             1.148333   \n",
       "BanOnAllEvents                         1.492174             1.500417   \n",
       "BanOnAllEventsPartial                  1.260000             1.252000   \n",
       "ClosDaycare                            1.935294             1.893529   \n",
       "...                                         ...                  ...   \n",
       "StayHomeRiskGPartial                   0.820000             0.945000   \n",
       "Teleworking                            1.949524             1.968636   \n",
       "TeleworkingPartial                     0.997500             0.988333   \n",
       "WorkplaceClosures                      1.797500             1.752500   \n",
       "WorkplaceClosuresPartial               0.820000             0.790000   \n",
       "\n",
       "                              reproduction_rate_2  reproduction_rate_3  \\\n",
       "Response_measure                                                         \n",
       "AdaptationOfWorkplace                    1.584000             1.579000   \n",
       "AdaptationOfWorkplacePartial             1.133333             1.125000   \n",
       "BanOnAllEvents                           1.483750             1.441250   \n",
       "BanOnAllEventsPartial                    1.239000             1.233000   \n",
       "ClosDaycare                              1.844737             1.853478   \n",
       "...                                           ...                  ...   \n",
       "StayHomeRiskGPartial                     1.005000             1.010000   \n",
       "Teleworking                              1.959545             1.949130   \n",
       "TeleworkingPartial                       0.982500             0.985000   \n",
       "WorkplaceClosures                        1.707500             1.667500   \n",
       "WorkplaceClosuresPartial                 0.760000             0.730000   \n",
       "\n",
       "                              reproduction_rate_4  reproduction_rate_5  \\\n",
       "Response_measure                                                         \n",
       "AdaptationOfWorkplace                    1.541000             1.502000   \n",
       "AdaptationOfWorkplacePartial             1.125000             1.128333   \n",
       "BanOnAllEvents                           1.407500             1.369167   \n",
       "BanOnAllEventsPartial                    1.226000             1.209000   \n",
       "ClosDaycare                              1.839167             1.800417   \n",
       "...                                           ...                  ...   \n",
       "StayHomeRiskGPartial                     0.970000             1.095000   \n",
       "Teleworking                              1.869583             1.844800   \n",
       "TeleworkingPartial                       0.989167             1.000833   \n",
       "WorkplaceClosures                        1.632500             1.605000   \n",
       "WorkplaceClosuresPartial                 0.700000             0.680000   \n",
       "\n",
       "                              reproduction_rate_6  reproduction_rate_7  \n",
       "Response_measure                                                        \n",
       "AdaptationOfWorkplace                    1.463000             1.437000  \n",
       "AdaptationOfWorkplacePartial             1.125000             1.120000  \n",
       "BanOnAllEvents                           1.378077             1.351923  \n",
       "BanOnAllEventsPartial                    1.193000             1.189000  \n",
       "ClosDaycare                              1.761250             1.726400  \n",
       "...                                           ...                  ...  \n",
       "StayHomeRiskGPartial                     1.015000             1.000000  \n",
       "Teleworking                              1.815200             1.820000  \n",
       "TeleworkingPartial                       1.008333             1.011667  \n",
       "WorkplaceClosures                        1.562500             1.522500  \n",
       "WorkplaceClosuresPartial                 0.680000             0.670000  \n",
       "\n",
       "[64 rows x 10 columns]"
      ],
      "text/html": "<div>\n<style scoped>\n    .dataframe tbody tr th:only-of-type {\n        vertical-align: middle;\n    }\n\n    .dataframe tbody tr th {\n        vertical-align: top;\n    }\n\n    .dataframe thead th {\n        text-align: right;\n    }\n</style>\n<table border=\"1\" class=\"dataframe\">\n  <thead>\n    <tr style=\"text-align: right;\">\n      <th></th>\n      <th>positive_rate</th>\n      <th>positive_rate_after_14</th>\n      <th>reproduction_rate</th>\n      <th>reproduction_rate_1</th>\n      <th>reproduction_rate_2</th>\n      <th>reproduction_rate_3</th>\n      <th>reproduction_rate_4</th>\n      <th>reproduction_rate_5</th>\n      <th>reproduction_rate_6</th>\n      <th>reproduction_rate_7</th>\n    </tr>\n    <tr>\n      <th>Response_measure</th>\n      <th></th>\n      <th></th>\n      <th></th>\n      <th></th>\n      <th></th>\n      <th></th>\n      <th></th>\n      <th></th>\n      <th></th>\n      <th></th>\n    </tr>\n  </thead>\n  <tbody>\n    <tr>\n      <th>AdaptationOfWorkplace</th>\n      <td>0.081250</td>\n      <td>0.088429</td>\n      <td>1.576000</td>\n      <td>1.586000</td>\n      <td>1.584000</td>\n      <td>1.579000</td>\n      <td>1.541000</td>\n      <td>1.502000</td>\n      <td>1.463000</td>\n      <td>1.437000</td>\n    </tr>\n    <tr>\n      <th>AdaptationOfWorkplacePartial</th>\n      <td>0.156400</td>\n      <td>0.142400</td>\n      <td>1.170000</td>\n      <td>1.148333</td>\n      <td>1.133333</td>\n      <td>1.125000</td>\n      <td>1.125000</td>\n      <td>1.128333</td>\n      <td>1.125000</td>\n      <td>1.120000</td>\n    </tr>\n    <tr>\n      <th>BanOnAllEvents</th>\n      <td>0.133950</td>\n      <td>0.147727</td>\n      <td>1.492174</td>\n      <td>1.500417</td>\n      <td>1.483750</td>\n      <td>1.441250</td>\n      <td>1.407500</td>\n      <td>1.369167</td>\n      <td>1.378077</td>\n      <td>1.351923</td>\n    </tr>\n    <tr>\n      <th>BanOnAllEventsPartial</th>\n      <td>0.078625</td>\n      <td>0.101625</td>\n      <td>1.260000</td>\n      <td>1.252000</td>\n      <td>1.239000</td>\n      <td>1.233000</td>\n      <td>1.226000</td>\n      <td>1.209000</td>\n      <td>1.193000</td>\n      <td>1.189000</td>\n    </tr>\n    <tr>\n      <th>ClosDaycare</th>\n      <td>0.109600</td>\n      <td>0.102105</td>\n      <td>1.935294</td>\n      <td>1.893529</td>\n      <td>1.844737</td>\n      <td>1.853478</td>\n      <td>1.839167</td>\n      <td>1.800417</td>\n      <td>1.761250</td>\n      <td>1.726400</td>\n    </tr>\n    <tr>\n      <th>...</th>\n      <td>...</td>\n      <td>...</td>\n      <td>...</td>\n      <td>...</td>\n      <td>...</td>\n      <td>...</td>\n      <td>...</td>\n      <td>...</td>\n      <td>...</td>\n      <td>...</td>\n    </tr>\n    <tr>\n      <th>StayHomeRiskGPartial</th>\n      <td>0.003500</td>\n      <td>0.004000</td>\n      <td>0.820000</td>\n      <td>0.945000</td>\n      <td>1.005000</td>\n      <td>1.010000</td>\n      <td>0.970000</td>\n      <td>1.095000</td>\n      <td>1.015000</td>\n      <td>1.000000</td>\n    </tr>\n    <tr>\n      <th>Teleworking</th>\n      <td>0.121765</td>\n      <td>0.148895</td>\n      <td>1.949524</td>\n      <td>1.968636</td>\n      <td>1.959545</td>\n      <td>1.949130</td>\n      <td>1.869583</td>\n      <td>1.844800</td>\n      <td>1.815200</td>\n      <td>1.820000</td>\n    </tr>\n    <tr>\n      <th>TeleworkingPartial</th>\n      <td>0.114400</td>\n      <td>0.093917</td>\n      <td>0.997500</td>\n      <td>0.988333</td>\n      <td>0.982500</td>\n      <td>0.985000</td>\n      <td>0.989167</td>\n      <td>1.000833</td>\n      <td>1.008333</td>\n      <td>1.011667</td>\n    </tr>\n    <tr>\n      <th>WorkplaceClosures</th>\n      <td>0.195000</td>\n      <td>0.071500</td>\n      <td>1.797500</td>\n      <td>1.752500</td>\n      <td>1.707500</td>\n      <td>1.667500</td>\n      <td>1.632500</td>\n      <td>1.605000</td>\n      <td>1.562500</td>\n      <td>1.522500</td>\n    </tr>\n    <tr>\n      <th>WorkplaceClosuresPartial</th>\n      <td>0.022000</td>\n      <td>0.003000</td>\n      <td>0.820000</td>\n      <td>0.790000</td>\n      <td>0.760000</td>\n      <td>0.730000</td>\n      <td>0.700000</td>\n      <td>0.680000</td>\n      <td>0.680000</td>\n      <td>0.670000</td>\n    </tr>\n  </tbody>\n</table>\n<p>64 rows × 10 columns</p>\n</div>"
     },
     "metadata": {},
     "execution_count": 13
    }
   ],
   "source": []
  }
 ],
 "metadata": {
  "kernelspec": {
   "display_name": "Python 3",
   "language": "python",
   "name": "python3"
  },
  "language_info": {
   "codemirror_mode": {
    "name": "ipython",
    "version": 3
   },
   "file_extension": ".py",
   "mimetype": "text/x-python",
   "name": "python",
   "nbconvert_exporter": "python",
   "pygments_lexer": "ipython3",
   "version": "3.7.6"
  }
 },
 "nbformat": 4,
 "nbformat_minor": 4
}