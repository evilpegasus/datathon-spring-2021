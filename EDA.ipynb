{
 "metadata": {
  "language_info": {
   "codemirror_mode": {
    "name": "ipython",
    "version": 3
   },
   "file_extension": ".py",
   "mimetype": "text/x-python",
   "name": "python",
   "nbconvert_exporter": "python",
   "pygments_lexer": "ipython3",
   "version": "3.8.0-final"
  },
  "orig_nbformat": 2,
  "kernelspec": {
   "name": "257a9bf2-521b-4193-811f-cef1e552324b",
   "display_name": "'Python Interactive'",
   "language": "python"
  }
 },
 "nbformat": 4,
 "nbformat_minor": 2,
 "cells": [
  {
   "cell_type": "code",
   "execution_count": 7,
   "metadata": {},
   "outputs": [],
   "source": [
    "import pandas as pd\n",
    "import matplotlib.pyplot as plt"
   ]
  },
  {
   "cell_type": "code",
   "execution_count": 37,
   "metadata": {},
   "outputs": [],
   "source": [
    "response_df = pd.read_csv(\"data/2_ecdc/country_response_measures.csv\")\n",
    "testing_df = pd.read_csv(\"data/2_ecdc/testing.csv\")"
   ]
  },
  {
   "cell_type": "code",
   "execution_count": 38,
   "metadata": {},
   "outputs": [
    {
     "output_type": "execute_result",
     "data": {
      "text/plain": [
       "   Country       Response_measure  date_start    date_end\n",
       "0  Austria  AdaptationOfWorkplace  2020-03-10         NaN\n",
       "1  Austria         BanOnAllEvents  2020-11-03         NaN\n",
       "2  Austria            ClosDaycare  2020-03-16  2020-05-04\n",
       "3  Austria     ClosDaycarePartial  2020-11-17  2020-12-07\n",
       "4  Austria               ClosHigh  2020-03-16  2020-09-30"
      ],
      "text/html": "<div>\n<style scoped>\n    .dataframe tbody tr th:only-of-type {\n        vertical-align: middle;\n    }\n\n    .dataframe tbody tr th {\n        vertical-align: top;\n    }\n\n    .dataframe thead th {\n        text-align: right;\n    }\n</style>\n<table border=\"1\" class=\"dataframe\">\n  <thead>\n    <tr style=\"text-align: right;\">\n      <th></th>\n      <th>Country</th>\n      <th>Response_measure</th>\n      <th>date_start</th>\n      <th>date_end</th>\n    </tr>\n  </thead>\n  <tbody>\n    <tr>\n      <th>0</th>\n      <td>Austria</td>\n      <td>AdaptationOfWorkplace</td>\n      <td>2020-03-10</td>\n      <td>NaN</td>\n    </tr>\n    <tr>\n      <th>1</th>\n      <td>Austria</td>\n      <td>BanOnAllEvents</td>\n      <td>2020-11-03</td>\n      <td>NaN</td>\n    </tr>\n    <tr>\n      <th>2</th>\n      <td>Austria</td>\n      <td>ClosDaycare</td>\n      <td>2020-03-16</td>\n      <td>2020-05-04</td>\n    </tr>\n    <tr>\n      <th>3</th>\n      <td>Austria</td>\n      <td>ClosDaycarePartial</td>\n      <td>2020-11-17</td>\n      <td>2020-12-07</td>\n    </tr>\n    <tr>\n      <th>4</th>\n      <td>Austria</td>\n      <td>ClosHigh</td>\n      <td>2020-03-16</td>\n      <td>2020-09-30</td>\n    </tr>\n  </tbody>\n</table>\n</div>"
     },
     "metadata": {},
     "execution_count": 38
    }
   ],
   "source": [
    "response_df.head()"
   ]
  },
  {
   "cell_type": "code",
   "execution_count": 48,
   "metadata": {},
   "outputs": [
    {
     "output_type": "execute_result",
     "data": {
      "text/plain": [
       "65.82355527000979"
      ]
     },
     "metadata": {},
     "execution_count": 48
    }
   ],
   "source": [
    "testing_df[\"positivity_rate\"].max()"
   ]
  },
  {
   "cell_type": "code",
   "execution_count": 9,
   "metadata": {},
   "outputs": [
    {
     "output_type": "error",
     "ename": "SyntaxError",
     "evalue": "invalid syntax (<ipython-input-9-2acf33313e11>, line 2)",
     "traceback": [
      "\u001b[1;36m  File \u001b[1;32m\"<ipython-input-9-2acf33313e11>\"\u001b[1;36m, line \u001b[1;32m2\u001b[0m\n\u001b[1;33m    if df[col].insumeric()\u001b[0m\n\u001b[1;37m                          ^\u001b[0m\n\u001b[1;31mSyntaxError\u001b[0m\u001b[1;31m:\u001b[0m invalid syntax\n"
     ]
    }
   ],
   "source": [
    "for col in df:\n",
    "    if df[col].insumeric()\n",
    "        plt.plot(df[col])"
   ]
  }
 ]
}